{
 "cells": [
  {
   "cell_type": "markdown",
   "metadata": {},
   "source": [
    "# Part-1 - Sentiment Analysis on IMDB Movie set"
   ]
  },
  {
   "cell_type": "code",
   "execution_count": 1,
   "metadata": {},
   "outputs": [],
   "source": [
    "# import numpy as np\n",
    "from matplotlib import pyplot as plt\n",
    "plt.style.use('dark_background')\n",
    "from tensorflow.keras.datasets import imdb"
   ]
  },
  {
   "cell_type": "code",
   "execution_count": 2,
   "metadata": {},
   "outputs": [],
   "source": [
    "from tensorflow.keras.models import Sequential \n",
    "from tensorflow.keras.preprocessing.sequence import pad_sequences\n",
    "from tensorflow.keras.layers import Embedding, GlobalAveragePooling1D, Dense"
   ]
  },
  {
   "cell_type": "code",
   "execution_count": 3,
   "metadata": {},
   "outputs": [],
   "source": [
    "# Keeping only the top 10,000 most frequently occuring words in the training set\n",
    "\n",
    "num_words = 10000"
   ]
  },
  {
   "cell_type": "code",
   "execution_count": 6,
   "metadata": {},
   "outputs": [],
   "source": [
    "import numpy as np\n",
    "old = np.load\n"
   ]
  },
  {
   "cell_type": "code",
   "execution_count": 7,
   "metadata": {},
   "outputs": [
    {
     "name": "stderr",
     "output_type": "stream",
     "text": [
      "<__array_function__ internals>:5: VisibleDeprecationWarning: Creating an ndarray from ragged nested sequences (which is a list-or-tuple of lists-or-tuples-or ndarrays with different lengths or shapes) is deprecated. If you meant to do this, you must specify 'dtype=object' when creating the ndarray\n",
      "C:\\Users\\VISNN\\Anaconda3\\lib\\site-packages\\tensorflow\\python\\keras\\datasets\\imdb.py:159: VisibleDeprecationWarning: Creating an ndarray from ragged nested sequences (which is a list-or-tuple of lists-or-tuples-or ndarrays with different lengths or shapes) is deprecated. If you meant to do this, you must specify 'dtype=object' when creating the ndarray\n",
      "  x_train, y_train = np.array(xs[:idx]), np.array(labels[:idx])\n",
      "C:\\Users\\VISNN\\Anaconda3\\lib\\site-packages\\tensorflow\\python\\keras\\datasets\\imdb.py:160: VisibleDeprecationWarning: Creating an ndarray from ragged nested sequences (which is a list-or-tuple of lists-or-tuples-or ndarrays with different lengths or shapes) is deprecated. If you meant to do this, you must specify 'dtype=object' when creating the ndarray\n",
      "  x_test, y_test = np.array(xs[idx:]), np.array(labels[idx:])\n"
     ]
    }
   ],
   "source": [
    "(X_train, y_train), (X_test, y_test) = imdb.load_data(num_words=num_words)"
   ]
  },
  {
   "cell_type": "code",
   "execution_count": 8,
   "metadata": {},
   "outputs": [
    {
     "name": "stdout",
     "output_type": "stream",
     "text": [
      "Training entries: 25000, labels: 25000\n"
     ]
    }
   ],
   "source": [
    "print(\"Training entries: {}, labels: {}\".format(len(X_train), len(y_train)))"
   ]
  },
  {
   "cell_type": "code",
   "execution_count": 9,
   "metadata": {
    "scrolled": true
   },
   "outputs": [
    {
     "name": "stdout",
     "output_type": "stream",
     "text": [
      "[1, 14, 22, 16, 43, 530, 973, 1622, 1385, 65, 458, 4468, 66, 3941, 4, 173, 36, 256, 5, 25, 100, 43, 838, 112, 50, 670, 2, 9, 35, 480, 284, 5, 150, 4, 172, 112, 167, 2, 336, 385, 39, 4, 172, 4536, 1111, 17, 546, 38, 13, 447, 4, 192, 50, 16, 6, 147, 2025, 19, 14, 22, 4, 1920, 4613, 469, 4, 22, 71, 87, 12, 16, 43, 530, 38, 76, 15, 13, 1247, 4, 22, 17, 515, 17, 12, 16, 626, 18, 2, 5, 62, 386, 12, 8, 316, 8, 106, 5, 4, 2223, 5244, 16, 480, 66, 3785, 33, 4, 130, 12, 16, 38, 619, 5, 25, 124, 51, 36, 135, 48, 25, 1415, 33, 6, 22, 12, 215, 28, 77, 52, 5, 14, 407, 16, 82, 2, 8, 4, 107, 117, 5952, 15, 256, 4, 2, 7, 3766, 5, 723, 36, 71, 43, 530, 476, 26, 400, 317, 46, 7, 4, 2, 1029, 13, 104, 88, 4, 381, 15, 297, 98, 32, 2071, 56, 26, 141, 6, 194, 7486, 18, 4, 226, 22, 21, 134, 476, 26, 480, 5, 144, 30, 5535, 18, 51, 36, 28, 224, 92, 25, 104, 4, 226, 65, 16, 38, 1334, 88, 12, 16, 283, 5, 16, 4472, 113, 103, 32, 15, 16, 5345, 19, 178, 32]\n"
     ]
    }
   ],
   "source": [
    "print(X_train[0])"
   ]
  },
  {
   "cell_type": "code",
   "execution_count": 10,
   "metadata": {},
   "outputs": [],
   "source": [
    "# create a function to understand what the original text is\n",
    "word_index= imdb.get_word_index()\n",
    "# The first indices are reserved\n",
    "word_index_1 = {k:(v+3) for k,v in word_index.items()}\n",
    "word_index[\"<PAD>\"]=0\n",
    "word_index[\"<START>\"] = 1\n",
    "word_index[\"<UNK>\"] = 2  # unknown\n",
    "word_index[\"<UNUSED>\"] = 3\n",
    "\n",
    "# Now Reverse the word index to obtain a dict mapping indices to words\n",
    "reverse_word_index=dict([(value,key)for (key,value) in word_index.items()])\n",
    "\n",
    "# define the function to decode the sentences:\n",
    "def decode_review(text):\n",
    "    return ' '.join([reverse_word_index.get(i,'?') for i in text])"
   ]
  },
  {
   "cell_type": "code",
   "execution_count": 11,
   "metadata": {},
   "outputs": [
    {
     "data": {
      "text/plain": [
       "\"<START> thought solid thought senator do making to is spot nomination assumed while he of jack in where picked as getting on was did hands fact characters to always life thrillers not as me can't in at are br of sure your way of little it strongly random to view of love it so principles of guy it used producer of where it of here icon film of outside to don't all unique some like of direction it if out her imagination below keep of queen he diverse to makes this stretch <UNK> of solid it thought begins br senator <UNK> budget worthwhile though ok <UNK> awaiting for ever better were <UNK> diverse for budget look kicked any to of making it out <UNK> follows for effects show to show cast this family us scenes more it severe making senator to <UNK> finds tv tend to of emerged these thing wants but <UNK> an beckinsale cult as it is video do you david see scenery it in few those are of ship for with of wild to one is very work dark they don't do dvd with those them\""
      ]
     },
     "execution_count": 11,
     "metadata": {},
     "output_type": "execute_result"
    }
   ],
   "source": [
    "decode_review(X_train[1])"
   ]
  },
  {
   "cell_type": "code",
   "execution_count": 12,
   "metadata": {},
   "outputs": [
    {
     "data": {
      "text/plain": [
       "(218, 189)"
      ]
     },
     "execution_count": 12,
     "metadata": {},
     "output_type": "execute_result"
    }
   ],
   "source": [
    "# It is to be ensured that the movie reviews are the same length before attempting\n",
    "# to feed them in to neural network\n",
    "# as we can see below the the length of the first set and second train set are\n",
    "# different\n",
    "\n",
    "len(X_train[0]),len(X_train[1])"
   ]
  },
  {
   "cell_type": "code",
   "execution_count": 13,
   "metadata": {},
   "outputs": [],
   "source": [
    "# Now let us pad the sentences of uniform lengths of about 256 for X_train\n",
    "X_train = pad_sequences(X_train,value=word_index[\"<PAD>\"], padding ='post',maxlen=256)"
   ]
  },
  {
   "cell_type": "code",
   "execution_count": 14,
   "metadata": {},
   "outputs": [],
   "source": [
    "# Now let us pad the sentences of uniform lengths of about 256 for X_test\n",
    "\n",
    "X_test = pad_sequences(X_test,value=word_index[\"<PAD>\"], padding ='post',maxlen=256)"
   ]
  },
  {
   "cell_type": "code",
   "execution_count": 15,
   "metadata": {},
   "outputs": [
    {
     "data": {
      "text/plain": [
       "(256, 256)"
      ]
     },
     "execution_count": 15,
     "metadata": {},
     "output_type": "execute_result"
    }
   ],
   "source": [
    "len(X_train[0]),len(X_train[1])"
   ]
  },
  {
   "cell_type": "code",
   "execution_count": 16,
   "metadata": {},
   "outputs": [],
   "source": [
    "# Adding a simple sequential model to train a neural network and predict "
   ]
  },
  {
   "cell_type": "code",
   "execution_count": 17,
   "metadata": {},
   "outputs": [
    {
     "name": "stdout",
     "output_type": "stream",
     "text": [
      "Model: \"sequential\"\n",
      "_________________________________________________________________\n",
      "Layer (type)                 Output Shape              Param #   \n",
      "=================================================================\n",
      "embedding (Embedding)        (None, 256, 32)           320000    \n",
      "_________________________________________________________________\n",
      "global_average_pooling1d (Gl (None, 32)                0         \n",
      "_________________________________________________________________\n",
      "dense (Dense)                (None, 16)                528       \n",
      "_________________________________________________________________\n",
      "dense_1 (Dense)              (None, 16)                272       \n",
      "_________________________________________________________________\n",
      "dense_2 (Dense)              (None, 1)                 17        \n",
      "=================================================================\n",
      "Total params: 320,817\n",
      "Trainable params: 320,817\n",
      "Non-trainable params: 0\n",
      "_________________________________________________________________\n"
     ]
    }
   ],
   "source": [
    "from tensorflow.keras.layers import Embedding, GlobalAveragePooling1D, Dense\n",
    "\n",
    "model = Sequential()\n",
    "model.add(Embedding(num_words, output_dim=32, input_length=256))\n",
    "\n",
    "model.add(GlobalAveragePooling1D())\n",
    "model.add(Dense(16,activation='relu'))\n",
    "model.add(Dense(16,activation='relu'))\n",
    "\n",
    "model.add(Dense(1,activation='sigmoid'))\n",
    "model.summary()"
   ]
  },
  {
   "cell_type": "code",
   "execution_count": 18,
   "metadata": {},
   "outputs": [],
   "source": [
    "model.compile(optimizer='adam',loss='binary_crossentropy',metrics=['accuracy'])"
   ]
  },
  {
   "cell_type": "code",
   "execution_count": 19,
   "metadata": {},
   "outputs": [
    {
     "name": "stdout",
     "output_type": "stream",
     "text": [
      "Epoch 1/20\n",
      "44/44 [==============================] - 3s 37ms/step - loss: 0.6910 - accuracy: 0.5253 - val_loss: 0.6767 - val_accuracy: 0.7244\n",
      "Epoch 2/20\n",
      "44/44 [==============================] - 1s 24ms/step - loss: 0.6627 - accuracy: 0.7396 - val_loss: 0.6036 - val_accuracy: 0.7976\n",
      "Epoch 3/20\n",
      "44/44 [==============================] - 1s 31ms/step - loss: 0.5643 - accuracy: 0.8162 - val_loss: 0.4629 - val_accuracy: 0.8276\n",
      "Epoch 4/20\n",
      "44/44 [==============================] - 1s 30ms/step - loss: 0.4065 - accuracy: 0.8690 - val_loss: 0.3551 - val_accuracy: 0.8676\n",
      "Epoch 5/20\n",
      "44/44 [==============================] - 1s 24ms/step - loss: 0.3035 - accuracy: 0.8949 - val_loss: 0.3123 - val_accuracy: 0.8776\n",
      "Epoch 6/20\n",
      "44/44 [==============================] - 1s 27ms/step - loss: 0.2457 - accuracy: 0.9131 - val_loss: 0.2938 - val_accuracy: 0.8860\n",
      "Epoch 7/20\n",
      "44/44 [==============================] - 1s 25ms/step - loss: 0.2106 - accuracy: 0.9255 - val_loss: 0.2874 - val_accuracy: 0.8840\n",
      "Epoch 8/20\n",
      "44/44 [==============================] - 1s 25ms/step - loss: 0.1834 - accuracy: 0.9353 - val_loss: 0.2857 - val_accuracy: 0.8908\n",
      "Epoch 9/20\n",
      "44/44 [==============================] - 1s 25ms/step - loss: 0.1651 - accuracy: 0.9434 - val_loss: 0.2888 - val_accuracy: 0.8924\n",
      "Epoch 10/20\n",
      "44/44 [==============================] - 1s 27ms/step - loss: 0.1500 - accuracy: 0.9492 - val_loss: 0.2940 - val_accuracy: 0.8932\n",
      "Epoch 11/20\n",
      "44/44 [==============================] - 1s 25ms/step - loss: 0.1313 - accuracy: 0.9583 - val_loss: 0.3032 - val_accuracy: 0.8904\n",
      "Epoch 12/20\n",
      "44/44 [==============================] - 1s 26ms/step - loss: 0.1238 - accuracy: 0.9597 - val_loss: 0.3108 - val_accuracy: 0.8928\n",
      "Epoch 13/20\n",
      "44/44 [==============================] - 1s 27ms/step - loss: 0.1098 - accuracy: 0.9668 - val_loss: 0.3225 - val_accuracy: 0.8944\n",
      "Epoch 14/20\n",
      "44/44 [==============================] - 1s 22ms/step - loss: 0.0989 - accuracy: 0.9717 - val_loss: 0.3341 - val_accuracy: 0.8876\n",
      "Epoch 15/20\n",
      "44/44 [==============================] - 1s 22ms/step - loss: 0.0917 - accuracy: 0.9751 - val_loss: 0.3487 - val_accuracy: 0.8904\n",
      "Epoch 16/20\n",
      "44/44 [==============================] - 1s 25ms/step - loss: 0.0838 - accuracy: 0.9784 - val_loss: 0.3625 - val_accuracy: 0.8868\n",
      "Epoch 17/20\n",
      "44/44 [==============================] - 1s 26ms/step - loss: 0.0777 - accuracy: 0.9803 - val_loss: 0.3775 - val_accuracy: 0.8868\n",
      "Epoch 18/20\n",
      "44/44 [==============================] - 1s 23ms/step - loss: 0.0705 - accuracy: 0.9826 - val_loss: 0.4077 - val_accuracy: 0.8824\n",
      "Epoch 19/20\n",
      "44/44 [==============================] - 1s 27ms/step - loss: 0.0632 - accuracy: 0.9860 - val_loss: 0.4090 - val_accuracy: 0.8824\n",
      "Epoch 20/20\n",
      "44/44 [==============================] - 1s 26ms/step - loss: 0.0563 - accuracy: 0.9869 - val_loss: 0.4263 - val_accuracy: 0.8808\n"
     ]
    }
   ],
   "source": [
    "history = model.fit(X_train,y_train, epochs=20,batch_size=512,validation_split=0.1,shuffle=True)"
   ]
  },
  {
   "cell_type": "code",
   "execution_count": 20,
   "metadata": {},
   "outputs": [
    {
     "data": {
      "image/png": "[encoded data removed]",
      "text/plain": [
       "<Figure size 432x288 with 1 Axes>"
      ]
     },
     "metadata": {},
     "output_type": "display_data"
    }
   ],
   "source": [
    "loss = history.history['loss']\n",
    "val_loss = history.history['val_loss']\n",
    "epochs = range(1, len(loss) + 1)\n",
    "plt.plot(epochs, loss, 'y', label='Training loss')\n",
    "plt.plot(epochs, val_loss, 'r', label='Validation loss')\n",
    "plt.title('Training and validation loss')\n",
    "plt.xlabel('Epochs')\n",
    "plt.ylabel('Loss')\n",
    "plt.legend()\n",
    "plt.show()"
   ]
  },
  {
   "cell_type": "code",
   "execution_count": 21,
   "metadata": {},
   "outputs": [
    {
     "data": {
      "image/png": "[encoded data removed]",
      "text/plain": [
       "<Figure size 432x288 with 1 Axes>"
      ]
     },
     "metadata": {},
     "output_type": "display_data"
    }
   ],
   "source": [
    "acc = history.history['accuracy']\n",
    "val_acc = history.history['val_accuracy']\n",
    "plt.plot(epochs, acc, 'y', label='Training acc')\n",
    "plt.plot(epochs, val_acc, 'r', label='Validation acc')\n",
    "plt.title('Training and validation accuracy')\n",
    "plt.xlabel('Epochs')\n",
    "plt.ylabel('Accuracy')\n",
    "plt.legend()\n",
    "plt.show()"
   ]
  },
  {
   "cell_type": "code",
   "execution_count": 22,
   "metadata": {},
   "outputs": [
    {
     "name": "stdout",
     "output_type": "stream",
     "text": [
      "782/782 [==============================] - 1s 1ms/step - loss: 0.4550 - accuracy: 0.8622\n",
      "0.8622000217437744\n"
     ]
    }
   ],
   "source": [
    "test_loss, test_acc = model.evaluate(X_test, y_test)\n",
    "print(test_acc)"
   ]
  },
  {
   "cell_type": "code",
   "execution_count": 23,
   "metadata": {},
   "outputs": [],
   "source": [
    "import string\n",
    "from tensorflow.keras.preprocessing import sequence\n",
    "word_dict = imdb.get_word_index()\n",
    "top_words =10000\n",
    "max_review_length =256"
   ]
  },
  {
   "cell_type": "code",
   "execution_count": 24,
   "metadata": {},
   "outputs": [],
   "source": [
    "def analyze(text):\n",
    "    # Prepare the input by removing punctuation characters, converting\n",
    "    # characters to lower case, and removing words containing numbers\n",
    "    translator = str.maketrans('', '', string.punctuation)\n",
    "    text = text.translate(translator)\n",
    "    text = text.lower().split(' ')\n",
    "    text = [word for word in text if word.isalpha()]\n",
    "\n",
    "    # Generate an input tensor\n",
    "    input = [1]\n",
    "    for word in text:\n",
    "        if word in word_dict and word_dict[word] < top_words:\n",
    "            input.append(word_dict[word])\n",
    "        else:\n",
    "            input.append(2)\n",
    "    padded_input = sequence.pad_sequences([input], maxlen=max_review_length)\n",
    "\n",
    "    # Invoke the model and return the result\n",
    "    result = model.predict(np.array([padded_input][0]))[0][0]\n",
    "    return result\n"
   ]
  },
  {
   "cell_type": "code",
   "execution_count": 25,
   "metadata": {},
   "outputs": [
    {
     "data": {
      "text/plain": [
       "0.50408816"
      ]
     },
     "execution_count": 25,
     "metadata": {},
     "output_type": "execute_result"
    }
   ],
   "source": [
    "analyze('Easily the most stellar experience I have ever had.')"
   ]
  },
  {
   "cell_type": "code",
   "execution_count": 26,
   "metadata": {},
   "outputs": [
    {
     "data": {
      "text/plain": [
       "0.49735835"
      ]
     },
     "execution_count": 26,
     "metadata": {},
     "output_type": "execute_result"
    }
   ],
   "source": [
    "analyze('Easily the best experience I have ever had.')"
   ]
  },
  {
   "cell_type": "code",
   "execution_count": 27,
   "metadata": {},
   "outputs": [
    {
     "data": {
      "text/plain": [
       "0.3281213"
      ]
     },
     "execution_count": 27,
     "metadata": {},
     "output_type": "execute_result"
    }
   ],
   "source": [
    "analyze('I had a really bad experience with the customer service.')"
   ]
  },
  {
   "cell_type": "code",
   "execution_count": 28,
   "metadata": {},
   "outputs": [
    {
     "data": {
      "text/plain": [
       "0.24642101"
      ]
     },
     "execution_count": 28,
     "metadata": {},
     "output_type": "execute_result"
    }
   ],
   "source": [
    "analyze('I had a neutral experience')"
   ]
  },
  {
   "cell_type": "markdown",
   "metadata": {},
   "source": [
    "# Part -2 Sarcasm Detection"
   ]
  },
  {
   "cell_type": "code",
   "execution_count": 37,
   "metadata": {},
   "outputs": [],
   "source": [
    "import os\n",
    "import json"
   ]
  },
  {
   "cell_type": "code",
   "execution_count": 38,
   "metadata": {},
   "outputs": [],
   "source": [
    "#Loading Json Fileimport json\n",
    "\n",
    "rows=[]\n",
    "for line in open ('Sarcasm_Headlines_Dataset.json','r'):\n",
    "     rows.append(json.loads(line))"
   ]
  },
  {
   "cell_type": "code",
   "execution_count": 39,
   "metadata": {},
   "outputs": [],
   "source": [
    "# Shuffling the data and splitting the data in to the training and test sets:\n",
    "import random\n",
    "SPLIT_SIZE = 0.9\n",
    "shuffled_set= random.sample(rows,len(rows))\n",
    "train_length=int(len(shuffled_set)*SPLIT_SIZE)\n",
    "train_set=shuffled_set[:train_length]\n",
    "test_set=shuffled_set[train_length:]"
   ]
  },
  {
   "cell_type": "code",
   "execution_count": 40,
   "metadata": {},
   "outputs": [
    {
     "name": "stdout",
     "output_type": "stream",
     "text": [
      "Total Length of the dataset:  26709\n",
      "Length of the Training Dataset:  24038\n",
      "Length of the Test dataset:  2671\n"
     ]
    }
   ],
   "source": [
    "#Data Summary:\n",
    "print('Total Length of the dataset: ', len(shuffled_set))\n",
    "print('Length of the Training Dataset: ',len(train_set))\n",
    "print('Length of the Test dataset: ', len(test_set))"
   ]
  },
  {
   "cell_type": "code",
   "execution_count": 41,
   "metadata": {},
   "outputs": [
    {
     "data": {
      "text/plain": [
       "{'article_link': 'https://local.theonion.com/turtle-bocce-balled-around-1819591772',\n",
       " 'headline': 'turtle bocce balled around',\n",
       " 'is_sarcastic': 1}"
      ]
     },
     "execution_count": 41,
     "metadata": {},
     "output_type": "execute_result"
    }
   ],
   "source": [
    "train_set[1000]"
   ]
  },
  {
   "cell_type": "code",
   "execution_count": 42,
   "metadata": {},
   "outputs": [],
   "source": [
    "stopwords=[ \"a\", \"about\", \"above\", \"after\", \"again\", \"against\", \"all\", \"am\", \"an\", \"and\", \"any\", \"are\", \"as\", \"at\", \"be\", \"because\", \"been\", \"before\", \"being\", \"below\", \"between\", \"both\", \"but\", \"by\", \"could\", \"did\", \"do\", \"does\", \"doing\", \"down\", \"during\", \"each\", \"few\", \"for\", \"from\", \"further\", \"had\", \"has\", \"have\", \"having\", \"he\", \"he'd\", \"he'll\", \"he's\", \"her\", \"here\", \"here's\", \"hers\", \"herself\", \"him\", \"himself\", \"his\", \"how\", \"how's\", \"i\", \"i'd\", \"i'll\", \"i'm\", \"i've\", \"if\", \"in\", \"into\", \"is\", \"it\", \"it's\", \"its\", \"itself\", \"let's\", \"me\", \"more\", \"most\", \"my\", \"myself\", \"nor\", \"of\", \"on\", \"once\", \"only\", \"or\", \"other\", \"ought\", \"our\", \"ours\", \"ourselves\", \"out\", \"over\", \"own\", \"same\", \"she\", \"she'd\", \"she'll\", \"she's\", \"should\", \"so\", \"some\", \"such\", \"than\", \"that\", \"that's\", \"the\", \"their\", \"theirs\", \"them\", \"themselves\", \"then\", \"there\", \"there's\", \"these\", \"they\", \"they'd\", \"they'll\", \"they're\", \"they've\", \"this\", \"those\", \"through\", \"to\", \"too\", \"under\", \"until\", \"up\", \"very\", \"was\", \"we\", \"we'd\", \"we'll\", \"we're\", \"we've\", \"were\", \"what\", \"what's\", \"when\", \"when's\", \"where\", \"where's\", \"which\", \"while\", \"who\", \"who's\", \"whom\", \"why\", \"why's\", \"with\", \"would\", \"you\", \"you'd\", \"you'll\", \"you're\", \"you've\", \"your\", \"yours\", \"yourself\", \"yourselves\" ]"
   ]
  },
  {
   "cell_type": "code",
   "execution_count": 43,
   "metadata": {},
   "outputs": [],
   "source": [
    "#Function to remove stopwords\n",
    "def remove_stopwords(sentence):\n",
    "    for word in stopwords:\n",
    "        token=' '+word+' '\n",
    "        sentence=sentence.replace(token,' ')\n",
    "        sentence=sentence.replace('  ',' ')\n",
    "    return sentence"
   ]
  },
  {
   "cell_type": "markdown",
   "metadata": {},
   "source": [
    "#Function to get the plain text from the link of an article\n",
    "def get_article(link):\n",
    " try:\n",
    "    from bs4 import BeautifulSoup\n",
    "    import urllib.request\n",
    "\n",
    "    user_agent = 'Mozilla/5.0 (Windows; U; Windows NT 5.1; en-US; rv:1.9.0.7) Gecko/2009021910 Firefox/3.0.7'\n",
    "\n",
    "    url = link\n",
    "\n",
    "    headers={'User-Agent':user_agent,} \n",
    "\n",
    "    request=urllib.request.Request(url,None,headers) #The assembled request\n",
    "    response = urllib.request.urlopen(request)\n",
    "    html= response.read()\n",
    "    soup = BeautifulSoup(html)\n",
    "\n",
    "    # kill all script and style elements\n",
    "    for script in soup([\"script\", \"style\"]):\n",
    "        script.extract()    # rip it out\n",
    "\n",
    "    # get text\n",
    "    text = soup.get_text()\n",
    "\n",
    "    # break into lines and remove leading and trailing space on each\n",
    "    lines = (line.strip() for line in text.splitlines())\n",
    "    # break multi-headlines into a line each\n",
    "    chunks = (phrase.strip() for line in lines for phrase in line.split(\"  \"))\n",
    "    # drop blank lines\n",
    "    text = '\\n'.join(chunk for chunk in chunks if chunk)\n",
    "    return ' '.join(text.split())\n",
    " except:\n",
    "    return 'article not available'\n",
    "    pass"
   ]
  },
  {
   "cell_type": "code",
   "execution_count": 44,
   "metadata": {},
   "outputs": [],
   "source": [
    "# Function to separate the articles, headlines and lables from the data\n",
    "\n",
    "def extract(array):\n",
    "    headlines=[]\n",
    "    labels=[]\n",
    "    for i in range(len(array)):\n",
    "        labels.append(array[i]['is_sarcastic'])\n",
    "        headlines.append(remove_stopwords(array[i]['headline']))\n",
    "    return headlines,labels"
   ]
  },
  {
   "cell_type": "code",
   "execution_count": 45,
   "metadata": {},
   "outputs": [],
   "source": [
    "#Extracting the training and testing headlines for the word embedding:\n",
    "train_headlines, train_labels = extract(train_set)\n",
    "test_headlines,test_labels = extract(test_set)"
   ]
  },
  {
   "cell_type": "code",
   "execution_count": 46,
   "metadata": {},
   "outputs": [],
   "source": [
    "import numpy as np\n",
    "train_headlines =np.array(train_headlines)\n",
    "train_labels = np.array(train_labels)\n",
    "test_headlines=np.array(test_headlines)\n",
    "test_labels=np.array(test_labels)"
   ]
  },
  {
   "cell_type": "code",
   "execution_count": 47,
   "metadata": {},
   "outputs": [],
   "source": [
    "#Preprocessing the training and testing headlines for the word embedding\n",
    "vocab_size=10000\n",
    "embedding_dim=16\n",
    "max_length= 120\n",
    "trunc_type = 'post'\n",
    "oov_tok=\"<OOV>\"\n",
    "\n"
   ]
  },
  {
   "cell_type": "code",
   "execution_count": 48,
   "metadata": {},
   "outputs": [
    {
     "name": "stderr",
     "output_type": "stream",
     "text": [
      "<ipython-input-48-30eeeed94951>:14: VisibleDeprecationWarning: Creating an ndarray from ragged nested sequences (which is a list-or-tuple of lists-or-tuples-or ndarrays with different lengths or shapes) is deprecated. If you meant to do this, you must specify 'dtype=object' when creating the ndarray\n",
      "  test_sequences= np.array(test_sequences)\n"
     ]
    }
   ],
   "source": [
    "import tensorflow as tf\n",
    "from tensorflow import keras\n",
    "from tensorflow.keras.preprocessing.text import Tokenizer\n",
    "from tensorflow.keras.preprocessing.sequence import pad_sequences\n",
    "import numpy as np\n",
    "\n",
    "tokenizer = Tokenizer(num_words = vocab_size, oov_token=oov_tok)\n",
    "tokenizer.fit_on_texts(train_headlines)\n",
    "word_index = tokenizer.word_index\n",
    "sequences = tokenizer.texts_to_sequences(train_headlines)\n",
    "padded = pad_sequences(sequences,maxlen=max_length, truncating=trunc_type)\n",
    "padded= np.array(padded)\n",
    "test_sequences = tokenizer.texts_to_sequences(test_headlines)\n",
    "test_sequences= np.array(test_sequences)\n",
    "test_padded = pad_sequences(test_sequences,maxlen=max_length)\n",
    "test_padded=np.array(test_padded)"
   ]
  },
  {
   "cell_type": "code",
   "execution_count": null,
   "metadata": {},
   "outputs": [],
   "source": []
  },
  {
   "cell_type": "markdown",
   "metadata": {},
   "source": [
    "# CONVOLUTIONAL NEURAL NETWORK (CNN)"
   ]
  },
  {
   "cell_type": "code",
   "execution_count": 49,
   "metadata": {},
   "outputs": [],
   "source": [
    "#Building the CNN Model\n",
    "model_conv = tf.keras.Sequential([\n",
    "    tf.keras.layers.Embedding(vocab_size, embedding_dim, input_length=max_length),\n",
    "    tf.keras.layers.Conv1D(16,3,activation='relu'),\n",
    "    tf.keras.layers.MaxPooling1D(2),\n",
    "    #tf.keras.layers.Dropout(0.2),\n",
    "    tf.keras.layers.Flatten(),\n",
    "    tf.keras.layers.Dense(6, activation='relu'),\n",
    "    tf.keras.layers.Dense(1, activation='sigmoid')\n",
    "])"
   ]
  },
  {
   "cell_type": "code",
   "execution_count": 50,
   "metadata": {},
   "outputs": [
    {
     "name": "stdout",
     "output_type": "stream",
     "text": [
      "Model: \"sequential_1\"\n",
      "_________________________________________________________________\n",
      "Layer (type)                 Output Shape              Param #   \n",
      "=================================================================\n",
      "embedding_1 (Embedding)      (None, 120, 16)           160000    \n",
      "_________________________________________________________________\n",
      "conv1d (Conv1D)              (None, 118, 16)           784       \n",
      "_________________________________________________________________\n",
      "max_pooling1d (MaxPooling1D) (None, 59, 16)            0         \n",
      "_________________________________________________________________\n",
      "flatten (Flatten)            (None, 944)               0         \n",
      "_________________________________________________________________\n",
      "dense_3 (Dense)              (None, 6)                 5670      \n",
      "_________________________________________________________________\n",
      "dense_4 (Dense)              (None, 1)                 7         \n",
      "=================================================================\n",
      "Total params: 166,461\n",
      "Trainable params: 166,461\n",
      "Non-trainable params: 0\n",
      "_________________________________________________________________\n"
     ]
    }
   ],
   "source": [
    "model_conv.summary()"
   ]
  },
  {
   "cell_type": "code",
   "execution_count": 51,
   "metadata": {},
   "outputs": [
    {
     "name": "stdout",
     "output_type": "stream",
     "text": [
      "Epoch 1/20\n",
      "752/752 [==============================] - 6s 6ms/step - loss: 0.6381 - accuracy: 0.6104 - val_loss: 0.4545 - val_accuracy: 0.8225\n",
      "Epoch 2/20\n",
      "752/752 [==============================] - 4s 5ms/step - loss: 0.3891 - accuracy: 0.8639 - val_loss: 0.3996 - val_accuracy: 0.8401\n",
      "Epoch 3/20\n",
      "752/752 [==============================] - 4s 5ms/step - loss: 0.2717 - accuracy: 0.9140 - val_loss: 0.4007 - val_accuracy: 0.8360\n",
      "Epoch 4/20\n",
      "752/752 [==============================] - 4s 5ms/step - loss: 0.1785 - accuracy: 0.9404 - val_loss: 0.4281 - val_accuracy: 0.8368\n",
      "Epoch 5/20\n",
      "752/752 [==============================] - 4s 5ms/step - loss: 0.1234 - accuracy: 0.9620 - val_loss: 0.4982 - val_accuracy: 0.8353\n",
      "Epoch 6/20\n",
      "752/752 [==============================] - 4s 5ms/step - loss: 0.0860 - accuracy: 0.9781 - val_loss: 0.5921 - val_accuracy: 0.8308\n",
      "Epoch 7/20\n",
      "752/752 [==============================] - 4s 5ms/step - loss: 0.0566 - accuracy: 0.9858 - val_loss: 0.6364 - val_accuracy: 0.8341\n",
      "Epoch 8/20\n",
      "752/752 [==============================] - 4s 5ms/step - loss: 0.0353 - accuracy: 0.9923 - val_loss: 0.7646 - val_accuracy: 0.8282\n",
      "Epoch 9/20\n",
      "752/752 [==============================] - 4s 5ms/step - loss: 0.0250 - accuracy: 0.9944 - val_loss: 0.8284 - val_accuracy: 0.8270\n",
      "Epoch 10/20\n",
      "752/752 [==============================] - 5s 6ms/step - loss: 0.0126 - accuracy: 0.9970 - val_loss: 0.9356 - val_accuracy: 0.8248\n",
      "Epoch 11/20\n",
      "752/752 [==============================] - 4s 5ms/step - loss: 0.0075 - accuracy: 0.9982 - val_loss: 0.9839 - val_accuracy: 0.8252\n",
      "Epoch 12/20\n",
      "752/752 [==============================] - 4s 5ms/step - loss: 0.0038 - accuracy: 0.9995 - val_loss: 1.0992 - val_accuracy: 0.8184\n",
      "Epoch 13/20\n",
      "752/752 [==============================] - 3s 5ms/step - loss: 0.0038 - accuracy: 0.9990 - val_loss: 1.1680 - val_accuracy: 0.8165\n",
      "Epoch 14/20\n",
      "752/752 [==============================] - 4s 5ms/step - loss: 0.0027 - accuracy: 0.9993 - val_loss: 1.2495 - val_accuracy: 0.8154\n",
      "Epoch 15/20\n",
      "752/752 [==============================] - 4s 5ms/step - loss: 0.0020 - accuracy: 0.9993 - val_loss: 1.3265 - val_accuracy: 0.8195\n",
      "Epoch 16/20\n",
      "752/752 [==============================] - ETA: 0s - loss: 0.0013 - accuracy: 0.99 - 4s 5ms/step - loss: 0.0013 - accuracy: 0.9996 - val_loss: 1.3869 - val_accuracy: 0.8184\n",
      "Epoch 17/20\n",
      "752/752 [==============================] - 4s 5ms/step - loss: 0.0012 - accuracy: 0.9995 - val_loss: 1.4909 - val_accuracy: 0.8143\n",
      "Epoch 18/20\n",
      "752/752 [==============================] - 3s 5ms/step - loss: 0.0013 - accuracy: 0.9995 - val_loss: 1.5840 - val_accuracy: 0.8132\n",
      "Epoch 19/20\n",
      "752/752 [==============================] - 4s 5ms/step - loss: 0.0014 - accuracy: 0.9994 - val_loss: 1.6412 - val_accuracy: 0.8173\n",
      "Epoch 20/20\n",
      "752/752 [==============================] - 4s 5ms/step - loss: 9.7240e-04 - accuracy: 0.9998 - val_loss: 1.6555 - val_accuracy: 0.8072\n"
     ]
    }
   ],
   "source": [
    "model_conv.compile(loss='binary_crossentropy',optimizer='adam',metrics=['accuracy'])\n",
    "num_epochs = 20\n",
    "history_conv=model_conv.fit(padded, train_labels, epochs=num_epochs, validation_data=(test_padded, test_labels))"
   ]
  },
  {
   "cell_type": "code",
   "execution_count": 52,
   "metadata": {
    "scrolled": true
   },
   "outputs": [
    {
     "data": {
      "image/png": "[encoded data removed]",
      "text/plain": [
       "<Figure size 432x288 with 1 Axes>"
      ]
     },
     "metadata": {
      "needs_background": "dark"
     },
     "output_type": "display_data"
    },
    {
     "data": {
      "image/png": "[encoded data removed]",
      "text/plain": [
       "<Figure size 432x288 with 1 Axes>"
      ]
     },
     "metadata": {
      "needs_background": "dark"
     },
     "output_type": "display_data"
    }
   ],
   "source": [
    "\n",
    "#Evaluating Accuracy and Loss of the model\n",
    "%matplotlib inline\n",
    "acc=history.history['accuracy']\n",
    "val_acc=history.history['val_accuracy']\n",
    "loss=history.history['loss']\n",
    "val_loss=history.history['val_loss']\n",
    "\n",
    "epochs=range(len(acc)) #No. of epochs\n",
    "\n",
    "#Plot training and validation accuracy per epoch\n",
    "import matplotlib.pyplot as plt\n",
    "plt.plot(epochs,acc,'r',label='Training Accuracy')\n",
    "plt.plot(epochs,val_acc,'g',label='Testing Accuracy')\n",
    "plt.legend()\n",
    "plt.figure()\n",
    "\n",
    "#Plot training and validation loss per epoch\n",
    "plt.plot(epochs,loss,'r',label='Training Loss')\n",
    "plt.plot(epochs,val_loss,'g',label='Testing Loss')\n",
    "plt.legend()\n",
    "plt.show()"
   ]
  },
  {
   "cell_type": "markdown",
   "metadata": {},
   "source": [
    "# Bidirectional GATED Recurrent Unit (GRU)"
   ]
  },
  {
   "cell_type": "code",
   "execution_count": 58,
   "metadata": {},
   "outputs": [],
   "source": [
    "# Building the GRU Model\n",
    "\n",
    "model_gru = tf.keras.Sequential([tf.keras.layers.Embedding(vocab_size,embedding_dim,input_length=max_length),\n",
    "                                tf.keras.layers.Bidirectional(tf.keras.layers.GRU(16)),\n",
    "                                tf.keras.layers.Dense(6, activation='relu'),\n",
    "                                tf.keras.layers.Dense(1,activation='sigmoid')\n",
    "                                ])"
   ]
  },
  {
   "cell_type": "code",
   "execution_count": 59,
   "metadata": {},
   "outputs": [
    {
     "name": "stdout",
     "output_type": "stream",
     "text": [
      "Model: \"sequential_3\"\n",
      "_________________________________________________________________\n",
      "Layer (type)                 Output Shape              Param #   \n",
      "=================================================================\n",
      "embedding_3 (Embedding)      (None, 120, 16)           160000    \n",
      "_________________________________________________________________\n",
      "bidirectional_1 (Bidirection (None, 32)                3264      \n",
      "_________________________________________________________________\n",
      "dense_7 (Dense)              (None, 6)                 198       \n",
      "_________________________________________________________________\n",
      "dense_8 (Dense)              (None, 1)                 7         \n",
      "=================================================================\n",
      "Total params: 163,469\n",
      "Trainable params: 163,469\n",
      "Non-trainable params: 0\n",
      "_________________________________________________________________\n"
     ]
    }
   ],
   "source": [
    "model_gru.summary()"
   ]
  },
  {
   "cell_type": "code",
   "execution_count": 60,
   "metadata": {},
   "outputs": [
    {
     "name": "stdout",
     "output_type": "stream",
     "text": [
      "Epoch 1/20\n",
      "47/47 [==============================] - 36s 699ms/step - loss: 0.6886 - accuracy: 0.5506 - val_loss: 0.6781 - val_accuracy: 0.5616\n",
      "Epoch 2/20\n",
      "47/47 [==============================] - 35s 735ms/step - loss: 0.6570 - accuracy: 0.5919 - val_loss: 0.4832 - val_accuracy: 0.7776\n",
      "Epoch 3/20\n",
      "47/47 [==============================] - 34s 735ms/step - loss: 0.4274 - accuracy: 0.8156 - val_loss: 0.3968 - val_accuracy: 0.8121\n",
      "Epoch 4/20\n",
      "47/47 [==============================] - 32s 685ms/step - loss: 0.2871 - accuracy: 0.8893 - val_loss: 0.3779 - val_accuracy: 0.8293\n",
      "Epoch 5/20\n",
      "47/47 [==============================] - 34s 721ms/step - loss: 0.2205 - accuracy: 0.9161 - val_loss: 0.3888 - val_accuracy: 0.8297\n",
      "Epoch 6/20\n",
      "47/47 [==============================] - 34s 716ms/step - loss: 0.1885 - accuracy: 0.9296 - val_loss: 0.4115 - val_accuracy: 0.8293\n",
      "Epoch 7/20\n",
      "47/47 [==============================] - 34s 725ms/step - loss: 0.1748 - accuracy: 0.9333 - val_loss: 0.4384 - val_accuracy: 0.8188\n",
      "Epoch 8/20\n",
      "47/47 [==============================] - 33s 703ms/step - loss: 0.1752 - accuracy: 0.9376 - val_loss: 0.4566 - val_accuracy: 0.8282\n",
      "Epoch 9/20\n",
      "47/47 [==============================] - 35s 752ms/step - loss: 0.1342 - accuracy: 0.9536 - val_loss: 0.4993 - val_accuracy: 0.8214\n",
      "Epoch 10/20\n",
      "47/47 [==============================] - 36s 758ms/step - loss: 0.1153 - accuracy: 0.9609 - val_loss: 0.5349 - val_accuracy: 0.8210\n",
      "Epoch 11/20\n",
      "47/47 [==============================] - 33s 697ms/step - loss: 0.1016 - accuracy: 0.9675 - val_loss: 0.5801 - val_accuracy: 0.8151\n",
      "Epoch 12/20\n",
      "47/47 [==============================] - 34s 732ms/step - loss: 0.0951 - accuracy: 0.9680 - val_loss: 0.6248 - val_accuracy: 0.8098\n",
      "Epoch 13/20\n",
      "47/47 [==============================] - 34s 724ms/step - loss: 0.0829 - accuracy: 0.9750 - val_loss: 0.6589 - val_accuracy: 0.8091\n",
      "Epoch 14/20\n",
      "47/47 [==============================] - 35s 752ms/step - loss: 0.0747 - accuracy: 0.9769 - val_loss: 0.7111 - val_accuracy: 0.8068\n",
      "Epoch 15/20\n",
      "47/47 [==============================] - 36s 760ms/step - loss: 0.0714 - accuracy: 0.9790 - val_loss: 0.7496 - val_accuracy: 0.8079\n",
      "Epoch 16/20\n",
      "47/47 [==============================] - 35s 742ms/step - loss: 0.0641 - accuracy: 0.9815 - val_loss: 0.7940 - val_accuracy: 0.8049\n",
      "Epoch 17/20\n",
      "47/47 [==============================] - 34s 714ms/step - loss: 0.0584 - accuracy: 0.9840 - val_loss: 0.8345 - val_accuracy: 0.8031\n",
      "Epoch 18/20\n",
      "47/47 [==============================] - 33s 712ms/step - loss: 0.0498 - accuracy: 0.9861 - val_loss: 0.8754 - val_accuracy: 0.8004\n",
      "Epoch 19/20\n",
      "47/47 [==============================] - 34s 712ms/step - loss: 0.0480 - accuracy: 0.9878 - val_loss: 0.9160 - val_accuracy: 0.8046\n",
      "Epoch 20/20\n",
      "47/47 [==============================] - 34s 723ms/step - loss: 0.0430 - accuracy: 0.9888 - val_loss: 0.9553 - val_accuracy: 0.8042\n"
     ]
    }
   ],
   "source": [
    "model_gru.compile(loss='binary_crossentropy',optimizer='adam',metrics=['accuracy'])\n",
    "num_epochs=20\n",
    "history1= model_gru.fit(padded, train_labels,batch_size=512,epochs=num_epochs,validation_data=(test_padded,test_labels))"
   ]
  },
  {
   "cell_type": "code",
   "execution_count": 61,
   "metadata": {},
   "outputs": [
    {
     "data": {
      "image/png": "[encoded data removed]",
      "text/plain": [
       "<Figure size 432x288 with 1 Axes>"
      ]
     },
     "metadata": {
      "needs_background": "dark"
     },
     "output_type": "display_data"
    },
    {
     "data": {
      "image/png": "[encoded data removed]",
      "text/plain": [
       "<Figure size 432x288 with 1 Axes>"
      ]
     },
     "metadata": {
      "needs_background": "dark"
     },
     "output_type": "display_data"
    }
   ],
   "source": [
    "#Evaluating Accuracy and Loss of the model\n",
    "%matplotlib inline\n",
    "acc=history1.history['accuracy']\n",
    "val_acc=history1.history['val_accuracy']\n",
    "loss=history1.history['loss']\n",
    "val_loss=history1.history['val_loss']\n",
    "\n",
    "epochs=range(len(acc)) #No. of epochs\n",
    "\n",
    "#Plot training and validation accuracy per epoch\n",
    "import matplotlib.pyplot as plt\n",
    "plt.plot(epochs,acc,'r',label='Training Accuracy')\n",
    "plt.plot(epochs,val_acc,'g',label='Testing Accuracy')\n",
    "plt.legend()\n",
    "plt.figure()\n",
    "\n",
    "#Plot training and validation loss per epoch\n",
    "plt.plot(epochs,loss,'r',label='Training Loss')\n",
    "plt.plot(epochs,val_loss,'g',label='Testing Loss')\n",
    "plt.legend()\n",
    "plt.show()"
   ]
  },
  {
   "cell_type": "markdown",
   "metadata": {},
   "source": [
    "# Bidirectional Long Short Term Memory (LSTM)"
   ]
  },
  {
   "cell_type": "code",
   "execution_count": 62,
   "metadata": {},
   "outputs": [],
   "source": [
    "# Building the LSTM model \n",
    "model_lstm = tf.keras.Sequential([tf.keras.layers.Embedding(vocab_size,embedding_dim,input_length=max_length),\n",
    "                                tf.keras.layers.Bidirectional(tf.keras.layers.LSTM(16)),\n",
    "                                tf.keras.layers.Dense(6, activation='relu'),\n",
    "                                tf.keras.layers.Dense(1,activation='sigmoid')\n",
    "                                ])"
   ]
  },
  {
   "cell_type": "code",
   "execution_count": 63,
   "metadata": {},
   "outputs": [
    {
     "name": "stdout",
     "output_type": "stream",
     "text": [
      "Model: \"sequential_4\"\n",
      "_________________________________________________________________\n",
      "Layer (type)                 Output Shape              Param #   \n",
      "=================================================================\n",
      "embedding_4 (Embedding)      (None, 120, 16)           160000    \n",
      "_________________________________________________________________\n",
      "bidirectional_2 (Bidirection (None, 32)                4224      \n",
      "_________________________________________________________________\n",
      "dense_9 (Dense)              (None, 6)                 198       \n",
      "_________________________________________________________________\n",
      "dense_10 (Dense)             (None, 1)                 7         \n",
      "=================================================================\n",
      "Total params: 164,429\n",
      "Trainable params: 164,429\n",
      "Non-trainable params: 0\n",
      "_________________________________________________________________\n"
     ]
    }
   ],
   "source": [
    "model_lstm.summary()"
   ]
  },
  {
   "cell_type": "code",
   "execution_count": 64,
   "metadata": {},
   "outputs": [
    {
     "name": "stdout",
     "output_type": "stream",
     "text": [
      "Epoch 1/20\n",
      "47/47 [==============================] - 35s 691ms/step - loss: 0.6887 - accuracy: 0.5347 - val_loss: 0.6783 - val_accuracy: 0.5616\n",
      "Epoch 2/20\n",
      "47/47 [==============================] - 33s 708ms/step - loss: 0.6571 - accuracy: 0.5659 - val_loss: 0.5546 - val_accuracy: 0.7278\n",
      "Epoch 3/20\n",
      "47/47 [==============================] - 34s 719ms/step - loss: 0.5000 - accuracy: 0.7811 - val_loss: 0.4200 - val_accuracy: 0.8229\n",
      "Epoch 4/20\n",
      "47/47 [==============================] - 33s 713ms/step - loss: 0.3075 - accuracy: 0.8967 - val_loss: 0.3682 - val_accuracy: 0.8368\n",
      "Epoch 5/20\n",
      "47/47 [==============================] - 32s 686ms/step - loss: 0.2351 - accuracy: 0.9129 - val_loss: 0.3811 - val_accuracy: 0.8443\n",
      "Epoch 6/20\n",
      "47/47 [==============================] - 32s 692ms/step - loss: 0.1851 - accuracy: 0.9345 - val_loss: 0.4025 - val_accuracy: 0.8398\n",
      "Epoch 7/20\n",
      "47/47 [==============================] - 33s 705ms/step - loss: 0.1503 - accuracy: 0.9496 - val_loss: 0.4363 - val_accuracy: 0.8311\n",
      "Epoch 8/20\n",
      "47/47 [==============================] - 32s 684ms/step - loss: 0.1370 - accuracy: 0.9554 - val_loss: 0.4777 - val_accuracy: 0.8326\n",
      "Epoch 9/20\n",
      "47/47 [==============================] - 33s 690ms/step - loss: 0.1261 - accuracy: 0.9609 - val_loss: 0.5202 - val_accuracy: 0.8315\n",
      "Epoch 10/20\n",
      "47/47 [==============================] - 32s 671ms/step - loss: 0.1093 - accuracy: 0.9651 - val_loss: 0.5601 - val_accuracy: 0.8282\n",
      "Epoch 11/20\n",
      "47/47 [==============================] - 33s 700ms/step - loss: 0.0940 - accuracy: 0.9721 - val_loss: 0.6012 - val_accuracy: 0.8248\n",
      "Epoch 12/20\n",
      "47/47 [==============================] - 34s 721ms/step - loss: 0.0912 - accuracy: 0.9733 - val_loss: 0.6438 - val_accuracy: 0.8210\n",
      "Epoch 13/20\n",
      "47/47 [==============================] - 31s 660ms/step - loss: 0.0841 - accuracy: 0.9743 - val_loss: 0.6754 - val_accuracy: 0.8248\n",
      "Epoch 14/20\n",
      "47/47 [==============================] - 32s 670ms/step - loss: 0.0703 - accuracy: 0.9799 - val_loss: 0.7195 - val_accuracy: 0.8229\n",
      "Epoch 15/20\n",
      "47/47 [==============================] - 34s 723ms/step - loss: 0.0712 - accuracy: 0.9800 - val_loss: 0.7430 - val_accuracy: 0.8188\n",
      "Epoch 16/20\n",
      "47/47 [==============================] - 32s 685ms/step - loss: 0.0621 - accuracy: 0.9842 - val_loss: 0.7742 - val_accuracy: 0.8173\n",
      "Epoch 17/20\n",
      "47/47 [==============================] - 33s 715ms/step - loss: 0.0588 - accuracy: 0.9848 - val_loss: 0.8325 - val_accuracy: 0.8203\n",
      "Epoch 18/20\n",
      "47/47 [==============================] - 34s 727ms/step - loss: 0.0537 - accuracy: 0.9868 - val_loss: 0.8599 - val_accuracy: 0.8165\n",
      "Epoch 19/20\n",
      "47/47 [==============================] - 33s 706ms/step - loss: 0.0524 - accuracy: 0.9868 - val_loss: 0.8760 - val_accuracy: 0.8124\n",
      "Epoch 20/20\n",
      "47/47 [==============================] - 29s 607ms/step - loss: 0.0505 - accuracy: 0.9867 - val_loss: 0.9160 - val_accuracy: 0.8117\n"
     ]
    }
   ],
   "source": [
    "model_lstm.compile(loss='binary_crossentropy',optimizer='adam',metrics=['accuracy'])\n",
    "num_epochs = 20\n",
    "history2=model_lstm.fit(padded, train_labels, batch_size=512,epochs=num_epochs, validation_data=(test_padded, test_labels))"
   ]
  },
  {
   "cell_type": "code",
   "execution_count": 65,
   "metadata": {},
   "outputs": [
    {
     "data": {
      "image/png": "[encoded data removed]",
      "text/plain": [
       "<Figure size 432x288 with 1 Axes>"
      ]
     },
     "metadata": {
      "needs_background": "dark"
     },
     "output_type": "display_data"
    },
    {
     "data": {
      "image/png": "[encoded data removed]",
      "text/plain": [
       "<Figure size 432x288 with 1 Axes>"
      ]
     },
     "metadata": {
      "needs_background": "dark"
     },
     "output_type": "display_data"
    }
   ],
   "source": [
    "#Evaluating Accuracy and Loss of the model\n",
    "%matplotlib inline\n",
    "acc=history2.history['accuracy']\n",
    "val_acc=history2.history['val_accuracy']\n",
    "loss=history2.history['loss']\n",
    "val_loss=history2.history['val_loss']\n",
    "\n",
    "epochs=range(len(acc)) #No. of epochs\n",
    "\n",
    "#Plot training and validation accuracy per epoch\n",
    "import matplotlib.pyplot as plt\n",
    "plt.plot(epochs,acc,'r',label='Training Accuracy')\n",
    "plt.plot(epochs,val_acc,'g',label='Testing Accuracy')\n",
    "plt.legend()\n",
    "plt.figure()\n",
    "\n",
    "#Plot training and validation loss per epoch\n",
    "plt.plot(epochs,loss,'r',label='Training Loss')\n",
    "plt.plot(epochs,val_loss,'g',label='Testing Loss')\n",
    "plt.legend()\n",
    "plt.show()"
   ]
  },
  {
   "cell_type": "code",
   "execution_count": null,
   "metadata": {},
   "outputs": [],
   "source": []
  }
 ],
 "metadata": {
  "kernelspec": {
   "display_name": "Python 3",
   "language": "python",
   "name": "python3"
  },
  "language_info": {
   "codemirror_mode": {
    "name": "ipython",
    "version": 3
   },
   "file_extension": ".py",
   "mimetype": "text/x-python",
   "name": "python",
   "nbconvert_exporter": "python",
   "pygments_lexer": "ipython3",
   "version": "3.8.3"
  }
 },
 "nbformat": 4,
 "nbformat_minor": 4
}
